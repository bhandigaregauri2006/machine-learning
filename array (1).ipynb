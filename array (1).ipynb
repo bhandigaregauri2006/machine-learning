{
 "cells": [
  {
   "cell_type": "code",
   "execution_count": 15,
   "id": "112d429e-3e1f-47c1-bbd5-49ba88a7ca56",
   "metadata": {},
   "outputs": [
    {
     "name": "stdin",
     "output_type": "stream",
     "text": [
      "enter the no: 45\n",
      "enter the no: 56\n"
     ]
    },
    {
     "data": {
      "text/plain": [
       "101"
      ]
     },
     "execution_count": 15,
     "metadata": {},
     "output_type": "execute_result"
    }
   ],
   "source": [
    "a=int(input(\"enter the no:\"))\n",
    "b=int(input(\"enter the no:\"))\n",
    "add=a+b\n",
    "add"
   ]
  },
  {
   "cell_type": "markdown",
   "id": "b326e53c-a961-44f6-b8ad-5c509e58a2ec",
   "metadata": {},
   "source": [
    "install numpy\n"
   ]
  },
  {
   "cell_type": "code",
   "execution_count": 16,
   "id": "309a2fe9-f628-4b2a-878e-be432300a8bb",
   "metadata": {
    "scrolled": true
   },
   "outputs": [
    {
     "name": "stdout",
     "output_type": "stream",
     "text": [
      "Requirement already satisfied: numpy in c:\\users\\dell\\anaconda3\\lib\\site-packages (1.26.4)\n",
      "Note: you may need to restart the kernel to use updated packages.\n"
     ]
    }
   ],
   "source": [
    "pip install numpy"
   ]
  },
  {
   "cell_type": "code",
   "execution_count": 17,
   "id": "34ad3ece-76ab-4c28-8256-8ff869cc475b",
   "metadata": {},
   "outputs": [
    {
     "name": "stdout",
     "output_type": "stream",
     "text": [
      "1.26.4\n"
     ]
    }
   ],
   "source": [
    "print(np.__version__)"
   ]
  },
  {
   "cell_type": "code",
   "execution_count": 18,
   "id": "f3750771-85a9-47ec-a158-18f14907652f",
   "metadata": {},
   "outputs": [
    {
     "name": "stdout",
     "output_type": "stream",
     "text": [
      "1.26.4\n"
     ]
    }
   ],
   "source": [
    "print(np.__version__)"
   ]
  },
  {
   "cell_type": "code",
   "execution_count": 21,
   "id": "8d2c6168-8c9b-4f6d-b8a3-2966d08a85b5",
   "metadata": {},
   "outputs": [
    {
     "name": "stdout",
     "output_type": "stream",
     "text": [
      "[1 2 3 4 4 5 6]\n"
     ]
    }
   ],
   "source": [
    "import numpy \n",
    "arr=np.array([1,2,3,4,4,5,6])\n",
    "print(arr)"
   ]
  },
  {
   "cell_type": "code",
   "execution_count": 8,
   "id": "c9cb9351-ed3e-4431-9eb0-385af44f6f39",
   "metadata": {},
   "outputs": [
    {
     "name": "stdout",
     "output_type": "stream",
     "text": [
      "[1 2 3 4 4 5 6]\n",
      "<class 'numpy.ndarray'>\n"
     ]
    }
   ],
   "source": [
    "import numpy \n",
    "arr=numpy.array([1,2,3,4,4,5,6])\n",
    "print(arr)\n",
    "print(type(arr))\n"
   ]
  },
  {
   "cell_type": "code",
   "execution_count": 3,
   "id": "dfceb057-e0bb-48d2-a032-0011ec2fc8fe",
   "metadata": {},
   "outputs": [
    {
     "name": "stdout",
     "output_type": "stream",
     "text": [
      "[[ 1  2  3  4  5]\n",
      " [ 2  3  4 45  2]]\n",
      "4\n",
      "45\n"
     ]
    }
   ],
   "source": [
    "#acess element in 2D array\n",
    "import numpy as np\n",
    "arr2=np.array([[1,2,3,4,5],[2,3,4,45,2]])\n",
    "print(arr2)\n",
    "print(arr2[1,-3])\n",
    "print(np.max(arr2))"
   ]
  },
  {
   "cell_type": "code",
   "execution_count": 28,
   "id": "4440f23f-a0fe-4bfe-9e3d-f50193c62f32",
   "metadata": {},
   "outputs": [
    {
     "data": {
      "text/plain": [
       "array([[1, 2, 3],\n",
       "       [4, 5, 6],\n",
       "       [7, 8, 9]])"
      ]
     },
     "execution_count": 28,
     "metadata": {},
     "output_type": "execute_result"
    }
   ],
   "source": [
    "import numpy as np\n",
    "arr3=np.array([[1,2,3],[4,5,6],[7,8,9]])\n",
    "arr3"
   ]
  },
  {
   "cell_type": "markdown",
   "id": "c8818d99-5f3a-45be-a66b-c4c407c798fb",
   "metadata": {},
   "source": [
    "Access element array"
   ]
  },
  {
   "cell_type": "code",
   "execution_count": 32,
   "id": "43b3400b-36db-47a9-81ff-fa1a79597221",
   "metadata": {},
   "outputs": [
    {
     "name": "stdout",
     "output_type": "stream",
     "text": [
      "1\n",
      "2nd element on 1st row: 2\n"
     ]
    }
   ],
   "source": [
    "import numpy as np\n",
    "arr= np.array([1,2,3,4])\n",
    "print(arr[0])\n",
    "arr1=np.array([[1,2,3,4,5],[6,7,8,9,10]])\n",
    "print('2nd element on 1st row:',arr1[0,1])   #access element 2-D"
   ]
  },
  {
   "cell_type": "markdown",
   "id": "8a8134dc-2dad-438c-8699-c616c3bdd447",
   "metadata": {},
   "source": [
    "Numpy Array Slicing"
   ]
  },
  {
   "cell_type": "code",
   "execution_count": 7,
   "id": "5608ff9b-850b-4cd2-a80a-be9502e02feb",
   "metadata": {},
   "outputs": [
    {
     "name": "stdout",
     "output_type": "stream",
     "text": [
      "[2 3 4 5]\n",
      "[5 6]\n",
      "[2 4]\n",
      "int32\n",
      "1\n"
     ]
    }
   ],
   "source": [
    "import numpy as np\n",
    "arr=np.array([1,2,3,4,5,6,7])\n",
    "print(arr[1:5])\n",
    "print(arr[-3:-1])       #slicing\n",
    "print(arr[1:5:2])      #step vise[starting point,ending point,gap] \n",
    "\n",
    "print(arr.ndim)     #check daimention\n",
    "\n"
   ]
  },
  {
   "cell_type": "markdown",
   "id": "0f4c5606-89e5-4798-9a3a-8892eb96085c",
   "metadata": {},
   "source": [
    "numpy datatype"
   ]
  },
  {
   "cell_type": "code",
   "execution_count": 13,
   "id": "73e4cfa6-66a2-4850-b433-36d6f7fd050d",
   "metadata": {},
   "outputs": [
    {
     "name": "stdout",
     "output_type": "stream",
     "text": [
      "['1' '2' '3' '4' '4' '5' '6']\n",
      "<U11\n"
     ]
    }
   ],
   "source": [
    "arr=np.array([1,2,3,4,\"4\",5,6])\n",
    "print(arr)\n",
    "print(arr.dtype)     #datatype\n"
   ]
  },
  {
   "cell_type": "markdown",
   "id": "dea034bb-adef-4786-b023-b5f7e978fe72",
   "metadata": {},
   "source": [
    "numpy array shape"
   ]
  },
  {
   "cell_type": "code",
   "execution_count": 14,
   "id": "33a36f3c-d11f-4008-8063-d22e7fb5562a",
   "metadata": {},
   "outputs": [
    {
     "data": {
      "text/plain": [
       "(7,)"
      ]
     },
     "execution_count": 14,
     "metadata": {},
     "output_type": "execute_result"
    }
   ],
   "source": [
    "# 1D array\n",
    "arr= np.array([2,4,5,7,8,9,3])\n",
    "arr.shape"
   ]
  },
  {
   "cell_type": "code",
   "execution_count": 18,
   "id": "3cfe6246-0000-4d1c-9ffb-5af8f0faaba4",
   "metadata": {},
   "outputs": [
    {
     "data": {
      "text/plain": [
       "(2, 6)"
      ]
     },
     "execution_count": 18,
     "metadata": {},
     "output_type": "execute_result"
    }
   ],
   "source": [
    "#2D array\n",
    "arr=np.array([[2,3,4,5,6,4],[1,2,3,4,5,6]])\n",
    "arr.shape"
   ]
  },
  {
   "cell_type": "markdown",
   "id": "279a78e5-f7f7-4559-8c4a-37f6626b081c",
   "metadata": {},
   "source": [
    "numpy reshape"
   ]
  },
  {
   "cell_type": "code",
   "execution_count": 21,
   "id": "e5699443-b80c-43f5-ba88-c6c159af4dde",
   "metadata": {},
   "outputs": [
    {
     "data": {
      "text/plain": [
       "array([[1],\n",
       "       [2],\n",
       "       [3],\n",
       "       [4],\n",
       "       [5],\n",
       "       [6],\n",
       "       [7],\n",
       "       [8],\n",
       "       [9],\n",
       "       [0]])"
      ]
     },
     "execution_count": 21,
     "metadata": {},
     "output_type": "execute_result"
    }
   ],
   "source": [
    "arr=np.array([1,2,3,4,5,6,7,8,9,0])\n",
    "new_arr=arr.reshape(10,1)\n",
    "new_arr"
   ]
  },
  {
   "cell_type": "markdown",
   "id": "d356955d-6787-4727-8606-a84bb907a59a",
   "metadata": {},
   "source": [
    "numpy array iterating"
   ]
  },
  {
   "cell_type": "code",
   "execution_count": 22,
   "id": "cd644368-b0d3-4404-8aa3-be3377c1ec33",
   "metadata": {},
   "outputs": [
    {
     "name": "stdout",
     "output_type": "stream",
     "text": [
      "1\n",
      "2\n",
      "3\n",
      "4\n",
      "5\n",
      "6\n",
      "7\n",
      "8\n",
      "9\n",
      "0\n"
     ]
    }
   ],
   "source": [
    "#iterating for 1D\n",
    "arr=np.array([1,2,3,4,5,6,7,8,9,0])\n",
    "for i in arr:    #or for i in range (0,10);\n",
    "    print(i)    #print(arr[i])"
   ]
  },
  {
   "cell_type": "code",
   "execution_count": null,
   "id": "193bfba3-7fe8-4b0f-8ddb-39974a48fbb2",
   "metadata": {},
   "outputs": [],
   "source": [
    "#iterating for 2D\n"
   ]
  },
  {
   "cell_type": "code",
   "execution_count": 2,
   "id": "c78ebaba-3a87-4d8c-b1c6-2fdd97e1f507",
   "metadata": {},
   "outputs": [
    {
     "data": {
      "text/plain": [
       "array([4, 6, 8])"
      ]
     },
     "execution_count": 2,
     "metadata": {},
     "output_type": "execute_result"
    }
   ],
   "source": [
    "import numpy as np\n",
    "arr1 = np.array([1,2,3])\n",
    "arr2 = np.array([3,4,5])\n",
    "newarr= arr1+arr2\n",
    "newarr"
   ]
  },
  {
   "cell_type": "code",
   "execution_count": 7,
   "id": "db030e4f-b229-4b78-8599-d47d4cebc9f6",
   "metadata": {},
   "outputs": [
    {
     "data": {
      "text/plain": [
       "[array([1, 2, 3]), array([4, 5, 6]), array([7, 8, 9])]"
      ]
     },
     "execution_count": 7,
     "metadata": {},
     "output_type": "execute_result"
    }
   ],
   "source": [
    "#split\n",
    "import numpy as np\n",
    "arr = np.array([1,2,3,4,5,6,7,8,9])\n",
    "split_arr=np.array_split(arr,3)\n",
    "split_arr"
   ]
  },
  {
   "cell_type": "code",
   "execution_count": 8,
   "id": "594be5e2-47cf-4b68-8798-83c5e2d2ea97",
   "metadata": {},
   "outputs": [
    {
     "data": {
      "text/plain": [
       "(array([2], dtype=int64),)"
      ]
     },
     "execution_count": 8,
     "metadata": {},
     "output_type": "execute_result"
    }
   ],
   "source": [
    "#where\n",
    "arr = np.array([3,4,5,6,7])\n",
    "search = np.where(arr==5)\n",
    "search"
   ]
  },
  {
   "cell_type": "code",
   "execution_count": 9,
   "id": "6bf1a917-ed12-40e6-8f3a-c1653a4f7432",
   "metadata": {},
   "outputs": [
    {
     "name": "stdout",
     "output_type": "stream",
     "text": [
      "[9 8 6 5 4 3 2 1]\n"
     ]
    }
   ],
   "source": [
    "#sort\n",
    "arr=([1,2,3,4,5,6,8,9])\n",
    "print(np.sort(arr)[::-1])"
   ]
  },
  {
   "cell_type": "code",
   "execution_count": 4,
   "id": "bb23bb05-1a58-41db-b507-faa543cecbbc",
   "metadata": {},
   "outputs": [
    {
     "data": {
      "text/plain": [
       "array([10, 20, 30])"
      ]
     },
     "execution_count": 4,
     "metadata": {},
     "output_type": "execute_result"
    }
   ],
   "source": [
    "import numpy as np\n",
    "arr= np.array([5,10,15])\n",
    "arr=arr*2\n",
    "arr"
   ]
  },
  {
   "cell_type": "code",
   "execution_count": 6,
   "id": "6d9df6e6-eb0c-40b3-b40d-2da6b2fcc892",
   "metadata": {},
   "outputs": [
    {
     "name": "stdout",
     "output_type": "stream",
     "text": [
      "name     2\n",
      "score    5\n",
      "Name: 1, dtype: int64\n"
     ]
    }
   ],
   "source": [
    "import pandas as pd\n",
    "df=pd.DataFrame({'name':[1,2,3],'score':[4,5,6]})\n",
    "print(df.iloc[1])"
   ]
  },
  {
   "cell_type": "code",
   "execution_count": null,
   "id": "ac066afa-b886-4c43-92ca-22b79ff85e2b",
   "metadata": {},
   "outputs": [],
   "source": []
  }
 ],
 "metadata": {
  "kernelspec": {
   "display_name": "Python [conda env:base] *",
   "language": "python",
   "name": "conda-base-py"
  },
  "language_info": {
   "codemirror_mode": {
    "name": "ipython",
    "version": 3
   },
   "file_extension": ".py",
   "mimetype": "text/x-python",
   "name": "python",
   "nbconvert_exporter": "python",
   "pygments_lexer": "ipython3",
   "version": "3.12.7"
  }
 },
 "nbformat": 4,
 "nbformat_minor": 5
}

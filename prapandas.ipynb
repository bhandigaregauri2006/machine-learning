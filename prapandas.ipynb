{
 "cells": [
  {
   "cell_type": "markdown",
   "id": "e67f08bf-41d3-415c-b357-5379ad20e941",
   "metadata": {},
   "source": [
    "install pandas"
   ]
  },
  {
   "cell_type": "code",
   "execution_count": 1,
   "id": "d32abe90-66ba-4817-bce7-770ba247756b",
   "metadata": {},
   "outputs": [
    {
     "name": "stdout",
     "output_type": "stream",
     "text": [
      "Requirement already satisfied: pandas in c:\\users\\dell\\anaconda3\\lib\\site-packages (2.2.2)\n",
      "Requirement already satisfied: numpy>=1.26.0 in c:\\users\\dell\\anaconda3\\lib\\site-packages (from pandas) (1.26.4)\n",
      "Requirement already satisfied: python-dateutil>=2.8.2 in c:\\users\\dell\\anaconda3\\lib\\site-packages (from pandas) (2.9.0.post0)\n",
      "Requirement already satisfied: pytz>=2020.1 in c:\\users\\dell\\anaconda3\\lib\\site-packages (from pandas) (2024.1)\n",
      "Requirement already satisfied: tzdata>=2022.7 in c:\\users\\dell\\anaconda3\\lib\\site-packages (from pandas) (2023.3)\n",
      "Requirement already satisfied: six>=1.5 in c:\\users\\dell\\anaconda3\\lib\\site-packages (from python-dateutil>=2.8.2->pandas) (1.16.0)\n",
      "Note: you may need to restart the kernel to use updated packages.\n"
     ]
    }
   ],
   "source": [
    "pip install pandas"
   ]
  },
  {
   "cell_type": "code",
   "execution_count": 2,
   "id": "86088c61-d0d9-4d82-8a31-cd29ced97a27",
   "metadata": {},
   "outputs": [],
   "source": [
    "#import pandas\n",
    "import pandas as pd"
   ]
  },
  {
   "cell_type": "code",
   "execution_count": 3,
   "id": "767d0098-f5d7-4603-b6f1-c5748b54af09",
   "metadata": {},
   "outputs": [
    {
     "ename": "AttributeError",
     "evalue": "module 'pandas' has no attribute '__version_'",
     "output_type": "error",
     "traceback": [
      "\u001b[1;31m---------------------------------------------------------------------------\u001b[0m",
      "\u001b[1;31mAttributeError\u001b[0m                            Traceback (most recent call last)",
      "Cell \u001b[1;32mIn[3], line 2\u001b[0m\n\u001b[0;32m      1\u001b[0m \u001b[38;5;66;03m#check version\u001b[39;00m\n\u001b[1;32m----> 2\u001b[0m \u001b[38;5;28mprint\u001b[39m(pd\u001b[38;5;241m.\u001b[39m__version_)\n",
      "\u001b[1;31mAttributeError\u001b[0m: module 'pandas' has no attribute '__version_'"
     ]
    }
   ],
   "source": [
    "#check version\n",
    "print(pd.__version_)"
   ]
  },
  {
   "cell_type": "code",
   "execution_count": 3,
   "id": "94924820-16da-484a-a4a6-b50b983c406f",
   "metadata": {},
   "outputs": [
    {
     "name": "stdout",
     "output_type": "stream",
     "text": [
      "    cars  passings\n",
      "0    BMW         3\n",
      "1  Volvo         7\n",
      "2   Ford         2\n"
     ]
    }
   ],
   "source": [
    "import pandas as pd\n",
    "mydataset={\n",
    "    'cars': [\"BMW\", \"Volvo\", \"Ford\"], \n",
    "    'passings': [3, 7, 2] \n",
    "          } \n",
    "myvar = pd.DataFrame(mydataset) \n",
    "print(myvar) \n"
   ]
  },
  {
   "cell_type": "code",
   "execution_count": 6,
   "id": "5678fb01-bce1-4f54-94fd-0ad225fdebe9",
   "metadata": {},
   "outputs": [
    {
     "name": "stdout",
     "output_type": "stream",
     "text": [
      "0    1\n",
      "1    7\n",
      "2    2\n",
      "dtype: int64\n"
     ]
    }
   ],
   "source": [
    "#pandas series\n",
    "import pandas as pd \n",
    "a = [1, 7, 2] \n",
    "myvar = pd.Series(a) \n",
    "print(myvar)"
   ]
  },
  {
   "cell_type": "code",
   "execution_count": 6,
   "id": "bb2280e6-20e7-45c6-b69b-35bd2c8393d4",
   "metadata": {},
   "outputs": [
    {
     "name": "stdout",
     "output_type": "stream",
     "text": [
      "   calories  duration\n",
      "0       420        50\n",
      "1       380        40\n",
      "2       390        45\n",
      "calories    420\n",
      "duration     50\n",
      "Name: 0, dtype: int64\n",
      "         calories  duration\n",
      "count    3.000000       3.0\n",
      "mean   396.666667      45.0\n",
      "std     20.816660       5.0\n",
      "min    380.000000      40.0\n",
      "25%    385.000000      42.5\n",
      "50%    390.000000      45.0\n",
      "75%    405.000000      47.5\n",
      "max    420.000000      50.0\n"
     ]
    }
   ],
   "source": [
    "# pandas dataframe\n",
    "import pandas as pd\n",
    "data = { \n",
    " \"calories\": [420, 380, 390], \n",
    " \"duration\": [50, 40, 45] \n",
    "}\n",
    "df = pd.DataFrame(data)\n",
    "print(df)\n",
    "print(df.loc[0])   #locate raw\n",
    "print(df.describe())"
   ]
  },
  {
   "cell_type": "code",
   "execution_count": 4,
   "id": "e083031c-80f3-4194-92be-9ceb18f506c9",
   "metadata": {},
   "outputs": [
    {
     "name": "stdout",
     "output_type": "stream",
     "text": [
      "     Duration  Pulse  Maxpulse  Calories\n",
      "0          60    110       130     409.1\n",
      "1          60    117       145     479.0\n",
      "2          60    103       135     340.0\n",
      "3          45    109       175     282.4\n",
      "4          45    117       148     406.0\n",
      "5          60    102       127     300.0\n",
      "6          60    110       136     374.0\n",
      "7          45    104       134     253.3\n",
      "8          30    109       133     195.1\n",
      "9          60     98       124     269.0\n",
      "10         60    103       147     329.3\n",
      "11         60    100       120     250.7\n",
      "12         60    106       128     345.3\n",
      "13         60    104       132     379.3\n",
      "14         60     98       123     275.0\n",
      "15         60     98       120     215.2\n",
      "16         60    100       120     300.0\n",
      "17         45     90       112       NaN\n",
      "18         60    103       123     323.0\n",
      "19         45     97       125     243.0\n",
      "20         60    108       131     364.2\n",
      "21         45    100       119     282.0\n",
      "22         60    130       101     300.0\n",
      "23         45    105       132     246.0\n",
      "24         60    102       126     334.5\n",
      "25         60    100       120     250.0\n",
      "26         60     92       118     241.0\n",
      "27         60    103       132       NaN\n",
      "28         60    100       132     280.0\n",
      "29         60    102       129     380.3\n",
      "30         60     92       115     243.0\n",
      "31         45     90       112     180.1\n",
      "32         60    101       124     299.0\n",
      "33         60     93       113     223.0\n",
      "34         60    107       136     361.0\n",
      "35         60    114       140     415.0\n",
      "36         60    102       127     300.0\n",
      "37         60    100       120     300.0\n",
      "38         60    100       120     300.0\n",
      "39         45    104       129     266.0\n",
      "40         45     90       112     180.1\n",
      "41         60     98       126     286.0\n",
      "42         60    100       122     329.4\n",
      "43         60    111       138     400.0\n",
      "44         60    111       131     397.0\n",
      "45         60     99       119     273.0\n",
      "46         60    109       153     387.6\n",
      "47         45    111       136     300.0\n",
      "48         45    108       129     298.0\n",
      "49         60    111       139     397.6\n",
      "50         60    107       136     380.2\n",
      "51         80    123       146     643.1\n",
      "52         60    106       130     263.0\n",
      "53         60    118       151     486.0\n",
      "54         30    136       175     238.0\n",
      "55         60    121       146     450.7\n",
      "56         60    118       121     413.0\n",
      "57         45    115       144     305.0\n",
      "58         20    153       172     226.4\n",
      "59         45    123       152     321.0\n",
      "60        210    108       160    1376.0\n",
      "61        160    110       137    1034.4\n",
      "62        160    109       135     853.0\n",
      "63         45    118       141     341.0\n",
      "64         20    110       130     131.4\n",
      "65        180     90       130     800.4\n",
      "66        150    105       135     873.4\n",
      "67        150    107       130     816.0\n",
      "68         20    106       136     110.4\n",
      "69        300    108       143    1500.2\n",
      "70        150     97       129    1115.0\n",
      "71         60    109       153     387.6\n",
      "72         90    100       127     700.0\n",
      "73        150     97       127     953.2\n",
      "74         45    114       146     304.0\n",
      "75         90     98       125     563.2\n",
      "76         45    105       134     251.0\n",
      "77         45    110       141     300.0\n",
      "78        120    100       130     500.4\n",
      "79        270    100       131    1729.0\n",
      "80         30    159       182     319.2\n",
      "81         45    149       169     344.0\n",
      "82         30    103       139     151.1\n",
      "83        120    100       130     500.0\n",
      "84         45    100       120     225.3\n",
      "85         30    151       170     300.0\n",
      "86         45    102       136     234.0\n",
      "87        120    100       157    1000.1\n",
      "88         45    129       103     242.0\n",
      "89         20     83       107      50.3\n",
      "90        180    101       127     600.1\n",
      "91         45    107       137       NaN\n",
      "92         30     90       107     105.3\n",
      "93         15     80       100      50.5\n",
      "94         20    150       171     127.4\n",
      "95         20    151       168     229.4\n",
      "96         30     95       128     128.2\n",
      "97         25    152       168     244.2\n",
      "98         30    109       131     188.2\n",
      "99         90     93       124     604.1\n",
      "100        20     95       112      77.7\n",
      "101        90     90       110     500.0\n",
      "102        90     90       100     500.0\n",
      "103        90     90       100     500.4\n",
      "104        30     92       108      92.7\n",
      "105        30     93       128     124.0\n",
      "106       180     90       120     800.3\n",
      "107        30     90       120      86.2\n",
      "108        90     90       120     500.3\n",
      "109       210    137       184    1860.4\n",
      "110        60    102       124     325.2\n",
      "111        45    107       124     275.0\n",
      "112        15    124       139     124.2\n",
      "113        45    100       120     225.3\n",
      "114        60    108       131     367.6\n",
      "115        60    108       151     351.7\n",
      "116        60    116       141     443.0\n",
      "117        60     97       122     277.4\n",
      "118        60    105       125       NaN\n",
      "119        60    103       124     332.7\n",
      "120        30    112       137     193.9\n",
      "121        45    100       120     100.7\n",
      "122        60    119       169     336.7\n",
      "123        60    107       127     344.9\n",
      "124        60    111       151     368.5\n",
      "125        60     98       122     271.0\n",
      "126        60     97       124     275.3\n",
      "127        60    109       127     382.0\n",
      "128        90     99       125     466.4\n",
      "129        60    114       151     384.0\n",
      "130        60    104       134     342.5\n",
      "131        60    107       138     357.5\n",
      "132        60    103       133     335.0\n",
      "133        60    106       132     327.5\n",
      "134        60    103       136     339.0\n",
      "135        20    136       156     189.0\n",
      "136        45    117       143     317.7\n",
      "137        45    115       137     318.0\n",
      "138        45    113       138     308.0\n",
      "139        20    141       162     222.4\n",
      "140        60    108       135     390.0\n",
      "141        60     97       127       NaN\n",
      "142        45    100       120     250.4\n",
      "143        45    122       149     335.4\n",
      "144        60    136       170     470.2\n",
      "145        45    106       126     270.8\n",
      "146        60    107       136     400.0\n",
      "147        60    112       146     361.9\n",
      "148        30    103       127     185.0\n",
      "149        60    110       150     409.4\n",
      "150        60    106       134     343.0\n",
      "151        60    109       129     353.2\n",
      "152        60    109       138     374.0\n",
      "153        30    150       167     275.8\n",
      "154        60    105       128     328.0\n",
      "155        60    111       151     368.5\n",
      "156        60     97       131     270.4\n",
      "157        60    100       120     270.4\n",
      "158        60    114       150     382.8\n",
      "159        30     80       120     240.9\n",
      "160        30     85       120     250.4\n",
      "161        45     90       130     260.4\n",
      "162        45     95       130     270.0\n",
      "163        45    100       140     280.9\n",
      "164        60    105       140     290.8\n",
      "165        60    110       145     300.0\n",
      "166        60    115       145     310.2\n",
      "167        75    120       150     320.4\n",
      "168        75    125       150     330.4\n"
     ]
    },
    {
     "ename": "KeyError",
     "evalue": "'pulse'",
     "output_type": "error",
     "traceback": [
      "\u001b[1;31m---------------------------------------------------------------------------\u001b[0m",
      "\u001b[1;31mKeyError\u001b[0m                                  Traceback (most recent call last)",
      "File \u001b[1;32m~\\anaconda3\\Lib\\site-packages\\pandas\\core\\indexes\\base.py:3805\u001b[0m, in \u001b[0;36mIndex.get_loc\u001b[1;34m(self, key)\u001b[0m\n\u001b[0;32m   3804\u001b[0m \u001b[38;5;28;01mtry\u001b[39;00m:\n\u001b[1;32m-> 3805\u001b[0m     \u001b[38;5;28;01mreturn\u001b[39;00m \u001b[38;5;28mself\u001b[39m\u001b[38;5;241m.\u001b[39m_engine\u001b[38;5;241m.\u001b[39mget_loc(casted_key)\n\u001b[0;32m   3806\u001b[0m \u001b[38;5;28;01mexcept\u001b[39;00m \u001b[38;5;167;01mKeyError\u001b[39;00m \u001b[38;5;28;01mas\u001b[39;00m err:\n",
      "File \u001b[1;32mindex.pyx:167\u001b[0m, in \u001b[0;36mpandas._libs.index.IndexEngine.get_loc\u001b[1;34m()\u001b[0m\n",
      "File \u001b[1;32mindex.pyx:196\u001b[0m, in \u001b[0;36mpandas._libs.index.IndexEngine.get_loc\u001b[1;34m()\u001b[0m\n",
      "File \u001b[1;32mpandas\\\\_libs\\\\hashtable_class_helper.pxi:7081\u001b[0m, in \u001b[0;36mpandas._libs.hashtable.PyObjectHashTable.get_item\u001b[1;34m()\u001b[0m\n",
      "File \u001b[1;32mpandas\\\\_libs\\\\hashtable_class_helper.pxi:7089\u001b[0m, in \u001b[0;36mpandas._libs.hashtable.PyObjectHashTable.get_item\u001b[1;34m()\u001b[0m\n",
      "\u001b[1;31mKeyError\u001b[0m: 'pulse'",
      "\nThe above exception was the direct cause of the following exception:\n",
      "\u001b[1;31mKeyError\u001b[0m                                  Traceback (most recent call last)",
      "Cell \u001b[1;32mIn[4], line 4\u001b[0m\n\u001b[0;32m      2\u001b[0m df \u001b[38;5;241m=\u001b[39m pd\u001b[38;5;241m.\u001b[39mread_csv(\u001b[38;5;124m'\u001b[39m\u001b[38;5;124mdata.csv\u001b[39m\u001b[38;5;124m'\u001b[39m)\n\u001b[0;32m      3\u001b[0m \u001b[38;5;28mprint\u001b[39m(df\u001b[38;5;241m.\u001b[39mto_string()) \n\u001b[1;32m----> 4\u001b[0m df[df[\u001b[38;5;124m'\u001b[39m\u001b[38;5;124mpulse\u001b[39m\u001b[38;5;124m'\u001b[39m]\u001b[38;5;241m>\u001b[39m\u001b[38;5;241m132\u001b[39m]\n",
      "File \u001b[1;32m~\\anaconda3\\Lib\\site-packages\\pandas\\core\\frame.py:4102\u001b[0m, in \u001b[0;36mDataFrame.__getitem__\u001b[1;34m(self, key)\u001b[0m\n\u001b[0;32m   4100\u001b[0m \u001b[38;5;28;01mif\u001b[39;00m \u001b[38;5;28mself\u001b[39m\u001b[38;5;241m.\u001b[39mcolumns\u001b[38;5;241m.\u001b[39mnlevels \u001b[38;5;241m>\u001b[39m \u001b[38;5;241m1\u001b[39m:\n\u001b[0;32m   4101\u001b[0m     \u001b[38;5;28;01mreturn\u001b[39;00m \u001b[38;5;28mself\u001b[39m\u001b[38;5;241m.\u001b[39m_getitem_multilevel(key)\n\u001b[1;32m-> 4102\u001b[0m indexer \u001b[38;5;241m=\u001b[39m \u001b[38;5;28mself\u001b[39m\u001b[38;5;241m.\u001b[39mcolumns\u001b[38;5;241m.\u001b[39mget_loc(key)\n\u001b[0;32m   4103\u001b[0m \u001b[38;5;28;01mif\u001b[39;00m is_integer(indexer):\n\u001b[0;32m   4104\u001b[0m     indexer \u001b[38;5;241m=\u001b[39m [indexer]\n",
      "File \u001b[1;32m~\\anaconda3\\Lib\\site-packages\\pandas\\core\\indexes\\base.py:3812\u001b[0m, in \u001b[0;36mIndex.get_loc\u001b[1;34m(self, key)\u001b[0m\n\u001b[0;32m   3807\u001b[0m     \u001b[38;5;28;01mif\u001b[39;00m \u001b[38;5;28misinstance\u001b[39m(casted_key, \u001b[38;5;28mslice\u001b[39m) \u001b[38;5;129;01mor\u001b[39;00m (\n\u001b[0;32m   3808\u001b[0m         \u001b[38;5;28misinstance\u001b[39m(casted_key, abc\u001b[38;5;241m.\u001b[39mIterable)\n\u001b[0;32m   3809\u001b[0m         \u001b[38;5;129;01mand\u001b[39;00m \u001b[38;5;28many\u001b[39m(\u001b[38;5;28misinstance\u001b[39m(x, \u001b[38;5;28mslice\u001b[39m) \u001b[38;5;28;01mfor\u001b[39;00m x \u001b[38;5;129;01min\u001b[39;00m casted_key)\n\u001b[0;32m   3810\u001b[0m     ):\n\u001b[0;32m   3811\u001b[0m         \u001b[38;5;28;01mraise\u001b[39;00m InvalidIndexError(key)\n\u001b[1;32m-> 3812\u001b[0m     \u001b[38;5;28;01mraise\u001b[39;00m \u001b[38;5;167;01mKeyError\u001b[39;00m(key) \u001b[38;5;28;01mfrom\u001b[39;00m \u001b[38;5;21;01merr\u001b[39;00m\n\u001b[0;32m   3813\u001b[0m \u001b[38;5;28;01mexcept\u001b[39;00m \u001b[38;5;167;01mTypeError\u001b[39;00m:\n\u001b[0;32m   3814\u001b[0m     \u001b[38;5;66;03m# If we have a listlike key, _check_indexing_error will raise\u001b[39;00m\n\u001b[0;32m   3815\u001b[0m     \u001b[38;5;66;03m#  InvalidIndexError. Otherwise we fall through and re-raise\u001b[39;00m\n\u001b[0;32m   3816\u001b[0m     \u001b[38;5;66;03m#  the TypeError.\u001b[39;00m\n\u001b[0;32m   3817\u001b[0m     \u001b[38;5;28mself\u001b[39m\u001b[38;5;241m.\u001b[39m_check_indexing_error(key)\n",
      "\u001b[1;31mKeyError\u001b[0m: 'pulse'"
     ]
    }
   ],
   "source": [
    "import pandas as pd \n",
    "df = pd.read_csv('data.csv')\n",
    "print(df.to_string()) \n",
    "df[df['pulse']>132]\n",
    "#print(df.to_string())\n",
    "\n"
   ]
  },
  {
   "cell_type": "code",
   "execution_count": null,
   "id": "c58fbfec-fffb-4d1c-aab9-411a338c96e1",
   "metadata": {},
   "outputs": [],
   "source": []
  },
  {
   "cell_type": "code",
   "execution_count": null,
   "id": "e9762666-2f81-4f32-b1ab-11b6e0eebbfa",
   "metadata": {},
   "outputs": [],
   "source": []
  }
 ],
 "metadata": {
  "kernelspec": {
   "display_name": "Python [conda env:base] *",
   "language": "python",
   "name": "conda-base-py"
  },
  "language_info": {
   "codemirror_mode": {
    "name": "ipython",
    "version": 3
   },
   "file_extension": ".py",
   "mimetype": "text/x-python",
   "name": "python",
   "nbconvert_exporter": "python",
   "pygments_lexer": "ipython3",
   "version": "3.12.7"
  }
 },
 "nbformat": 4,
 "nbformat_minor": 5
}
